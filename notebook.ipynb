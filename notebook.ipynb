{
 "cells": [
  {
   "cell_type": "code",
   "execution_count": 7,
   "metadata": {},
   "outputs": [],
   "source": [
    "from langchain.chat_models import ChatOpenAI\n",
    "\n",
    "chat = ChatOpenAI(\n",
    "    model_name=\"gpt-4o-mini\",\n",
    "    temperature=0.1,\n",
    ")"
   ]
  },
  {
   "cell_type": "code",
   "execution_count": 8,
   "metadata": {},
   "outputs": [
    {
     "data": {
      "text/plain": [
       "'INTP and INFJ are two distinct personality types from the Myers-Briggs Type Indicator (MBTI) framework. Here are some key differences between them:\\n\\n1. **Cognitive Functions**:\\n   - **INTP**: Dominant function is Introverted Thinking (Ti), which focuses on internal logical consistency and analysis. Their auxiliary function is Extraverted Intuition (Ne), which helps them explore possibilities and generate ideas.\\n   - **INFJ**: Dominant function is Introverted Intuition (Ni), which allows them to see patterns and future possibilities. Their auxiliary function is Extraverted Feeling (Fe), which helps them connect with others and understand their emotions.\\n\\n2. **Decision-Making**:\\n   - **INTP**: Typically make decisions based on logical analysis and objective reasoning. They prioritize truth and accuracy over emotional considerations.\\n   - **INFJ**: Tend to make decisions based on their values and the impact on others. They are more likely to consider emotional and ethical implications.\\n\\n3. **Social Interaction**:\\n   - **INTP**: Often more reserved and may prefer solitary activities or small groups. They can be seen as aloof or detached in social situations.\\n   - **INFJ**: Generally more attuned to the emotions of others and may seek deeper connections. They often enjoy meaningful conversations and can be more expressive.\\n\\n4. **Approach to Life**:\\n   - **INTP**: Typically adopt a more analytical and theoretical approach to life. They enjoy exploring abstract concepts and may be more focused on ideas than on people.\\n   - **INFJ**: Often have a strong sense of purpose and are driven by their values. They may focus on personal growth and the well-being of others.\\n\\n5. **Conflict Resolution**:\\n   - **INTP**: May approach conflict with a focus on logic and reason, sometimes leading to a lack of sensitivity to emotional dynamics.\\n   - **INFJ**: Tend to prioritize harmony and may seek to resolve conflicts in a way that considers the feelings of all parties involved.\\n\\n6. **Interests**:\\n   - **INTP**: Often drawn to theoretical and abstract subjects, such as philosophy, science, and technology.\\n   - **INFJ**: May be more interested in psychology, literature, and the arts, often exploring themes of human experience and emotion.\\n\\nIn summary, while both types are introspective and value depth, INTPs are more analytical and logic-driven, whereas INFJs are more intuitive and emotionally aware. These differences shape their perspectives, interactions, and approaches to life.'"
      ]
     },
     "execution_count": 8,
     "metadata": {},
     "output_type": "execute_result"
    }
   ],
   "source": [
    "from langchain.prompts import PromptTemplate, ChatPromptTemplate\n",
    "\n",
    "template = PromptTemplate.from_template(\n",
    "    \"What is different bettween {a} and {b}\",\n",
    ")\n",
    "\n",
    "prompt = template.format(a=\"INTP\", b=\"INFJ\")\n",
    "\n",
    "chat.predict(prompt)"
   ]
  },
  {
   "cell_type": "code",
   "execution_count": 6,
   "metadata": {},
   "outputs": [
    {
     "data": {
      "text/plain": [
       "AIMessage(content='The amygdala and the prefrontal cortex are two distinct regions of the brain that play different roles in processing emotions and decision-making.\\n\\n1. **Amygdala**: \\n   - Location: The amygdala is located deep within the temporal lobes of the brain.\\n   - Function: It is primarily involved in the processing of emotions, particularly fear and pleasure. The amygdala plays a crucial role in the formation of emotional memories and is activated in response to emotionally charged stimuli.\\n\\n2. **Prefrontal Cortex**: \\n   - Location: The prefrontal cortex is located at the front of the frontal lobes.\\n   - Function: This region is associated with higher cognitive functions, including decision-making, planning, social behavior, and impulse control. It helps regulate emotions and is involved in complex thought processes.\\n\\nIn summary, while the amygdala is more focused on emotional responses, the prefrontal cortex is involved in higher-level cognitive functions and the regulation of those emotions.')"
      ]
     },
     "execution_count": 6,
     "metadata": {},
     "output_type": "execute_result"
    }
   ],
   "source": [
    "template = ChatPromptTemplate.from_messages(\n",
    "    [\n",
    "        (\"system\", \"You are a brain scientist. And you only reply in Korean\"),\n",
    "        (\"ai\", \"안녕하세요, 저는 뇌과학자입니다. 무엇을 도와드릴까요?\"),\n",
    "        (\n",
    "            \"human\",\n",
    "            \"What is different bettween {a} and {b}, Also, what is your expert?\",\n",
    "        ),\n",
    "    ]\n",
    ")\n",
    "\n",
    "prompt = template.format_messages(a=\"INPT\", b=\"INFJ\")"
   ]
  }
 ],
 "metadata": {
  "kernelspec": {
   "display_name": "env",
   "language": "python",
   "name": "python3"
  },
  "language_info": {
   "codemirror_mode": {
    "name": "ipython",
    "version": 3
   },
   "file_extension": ".py",
   "mimetype": "text/x-python",
   "name": "python",
   "nbconvert_exporter": "python",
   "pygments_lexer": "ipython3",
   "version": "3.11.6"
  }
 },
 "nbformat": 4,
 "nbformat_minor": 2
}
