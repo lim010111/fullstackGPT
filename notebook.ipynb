{
 "cells": [
  {
   "cell_type": "code",
   "execution_count": 6,
   "metadata": {},
   "outputs": [],
   "source": [
    "from langchain.chat_models import ChatOpenAI\n",
    "from langchain.callbacks import StreamingStdOutCallbackHandler\n",
    "\n",
    "chat = ChatOpenAI(\n",
    "    model=\"gpt-4o-mini\",\n",
    "    temperature=0.1,\n",
    "    streaming=True,\n",
    "    callbacks=[StreamingStdOutCallbackHandler()],\n",
    ")"
   ]
  },
  {
   "cell_type": "code",
   "execution_count": 14,
   "metadata": {},
   "outputs": [
    {
     "name": "stdout",
     "output_type": "stream",
     "text": [
      "I'm sorry, but I don't have any information on Yun Seok Yeul. If you could provide more context or specify who they are, I might be able to help you better!"
     ]
    },
    {
     "data": {
      "text/plain": [
       "AIMessageChunk(content=\"I'm sorry, but I don't have any information on Yun Seok Yeul. If you could provide more context or specify who they are, I might be able to help you better!\")"
      ]
     },
     "execution_count": 14,
     "metadata": {},
     "output_type": "execute_result"
    }
   ],
   "source": [
    "from langchain.prompts import PromptTemplate\n",
    "from langchain.prompts.few_shot import FewShotPromptTemplate\n",
    "\n",
    "examples = [\n",
    "    {\n",
    "        \"question\": \"What do you know about Monkey D. Dragon?\",\n",
    "        \"answer\": \"\"\"\n",
    "        age: 55,\n",
    "        bounty: unknown,\n",
    "        ability: unknown,\n",
    "        affiliation/institutions: commander-in-chief of the revolutionary army\n",
    "        \"\"\"\n",
    "    },\n",
    "    {\n",
    "        \"question\": \"What do you know about Monkey D. Luffy?\",\n",
    "        \"answer\": \"\"\"\n",
    "        age: 19,\n",
    "        bounty: 3 billion,\n",
    "        ability: Human-Human Fruit Model Nika, Conqueror's Haki,\n",
    "        affiliation/institutions: Big boss of Straw Hat Grand Fleet\n",
    "        \"\"\"\n",
    "    },\n",
    "    {\n",
    "        \"question\": \"What do you know about Shanks?\",\n",
    "        \"answer\": \"\"\"\n",
    "        age: 39,\n",
    "        bounty: 4,048.9 million,\n",
    "        ability: incompetent, Conqueror's Haki,\n",
    "        affiliation/institutions: Captain of Red Hair Pirates,\n",
    "        \"\"\"\n",
    "    },\n",
    "]\n",
    "\n",
    "prompt = FewShotPromptTemplate(\n",
    "    example_prompt=PromptTemplate.from_template(\"Human: {question}\\nAI:{answer}\"),\n",
    "    examples=examples,\n",
    "    suffix=\"Human: What do you know about {character}?\",\n",
    "    input_variables=[\"character\"],\n",
    ")\n",
    "\n",
    "chain = prompt | chat\n",
    "\n",
    "chain.invoke({\"character\": \"Yoon Suk-yeol\"})"
   ]
  },
  {
   "cell_type": "code",
   "execution_count": null,
   "metadata": {},
   "outputs": [],
   "source": []
  }
 ],
 "metadata": {
  "kernelspec": {
   "display_name": "env",
   "language": "python",
   "name": "python3"
  },
  "language_info": {
   "codemirror_mode": {
    "name": "ipython",
    "version": 3
   },
   "file_extension": ".py",
   "mimetype": "text/x-python",
   "name": "python",
   "nbconvert_exporter": "python",
   "pygments_lexer": "ipython3",
   "version": "3.11.6"
  }
 },
 "nbformat": 4,
 "nbformat_minor": 2
}
