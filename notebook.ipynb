{
 "cells": [
  {
   "cell_type": "code",
   "execution_count": 2,
   "metadata": {},
   "outputs": [],
   "source": [
    "from langchain.chat_models import ChatOpenAI\n",
    "\n",
    "chat = ChatOpenAI(\n",
    "    model_name=\"gpt-4o-mini\",\n",
    "    temperature=0.1,\n",
    ")"
   ]
  },
  {
   "cell_type": "code",
   "execution_count": 6,
   "metadata": {},
   "outputs": [
    {
     "data": {
      "text/plain": [
       "AIMessage(content='The amygdala and the prefrontal cortex are two distinct regions of the brain that play different roles in processing emotions and decision-making.\\n\\n1. **Amygdala**: \\n   - Location: The amygdala is located deep within the temporal lobes of the brain.\\n   - Function: It is primarily involved in the processing of emotions, particularly fear and pleasure. The amygdala plays a crucial role in the formation of emotional memories and is activated in response to emotionally charged stimuli.\\n\\n2. **Prefrontal Cortex**: \\n   - Location: The prefrontal cortex is located at the front of the frontal lobes.\\n   - Function: This region is associated with higher cognitive functions, including decision-making, planning, social behavior, and impulse control. It helps regulate emotions and is involved in complex thought processes.\\n\\nIn summary, while the amygdala is more focused on emotional responses, the prefrontal cortex is involved in higher-level cognitive functions and the regulation of those emotions.')"
      ]
     },
     "execution_count": 6,
     "metadata": {},
     "output_type": "execute_result"
    }
   ],
   "source": [
    "from langchain.schema import HumanMessage, AIMessage, SystemMessage\n",
    "\n",
    "messages = [\n",
    "    SystemMessage(\n",
    "        content=\"You are a brain scientist. And you only reply in English\",\n",
    "    ),\n",
    "    AIMessage(\n",
    "        content=\"Hello! i'm a Brain Sciectist\",\n",
    "    ),\n",
    "    HumanMessage(\n",
    "        content=\"편도체와 전전두피질의 차이를 알려줘\",\n",
    "    ),\n",
    "]\n",
    "\n",
    "chat.predict_messages(messages)"
   ]
  }
 ],
 "metadata": {
  "kernelspec": {
   "display_name": "env",
   "language": "python",
   "name": "python3"
  },
  "language_info": {
   "codemirror_mode": {
    "name": "ipython",
    "version": 3
   },
   "file_extension": ".py",
   "mimetype": "text/x-python",
   "name": "python",
   "nbconvert_exporter": "python",
   "pygments_lexer": "ipython3",
   "version": "3.11.6"
  }
 },
 "nbformat": 4,
 "nbformat_minor": 2
}
