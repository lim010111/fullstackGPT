{
 "cells": [
  {
   "cell_type": "code",
   "execution_count": 6,
   "metadata": {},
   "outputs": [],
   "source": [
    "from langchain.chat_models import ChatOpenAI\n",
    "\n",
    "chat = ChatOpenAI(\n",
    "    model_name=\"gpt-4o-mini\",\n",
    "    temperature=0.1,\n",
    ")"
   ]
  },
  {
   "cell_type": "code",
   "execution_count": 8,
   "metadata": {},
   "outputs": [],
   "source": [
    "from langchain.schema import BaseOutputParser\n",
    "\n",
    "class CommaCouputParser(BaseOutputParser):\n",
    "    def parse(self, text):\n",
    "\n",
    "        return list(map(str.strip, text.split(\",\")))"
   ]
  },
  {
   "cell_type": "code",
   "execution_count": 24,
   "metadata": {},
   "outputs": [
    {
     "data": {
      "text/plain": [
       "['Introversion',\n",
       " 'Intuition',\n",
       " 'Feeling',\n",
       " 'Judging',\n",
       " 'Introversion',\n",
       " 'Intuition',\n",
       " 'Thinking',\n",
       " 'Perceiving',\n",
       " 'Emotional depth',\n",
       " 'Logical analysis']"
      ]
     },
     "execution_count": 24,
     "metadata": {},
     "output_type": "execute_result"
    }
   ],
   "source": [
    "from langchain.prompts import ChatPromptTemplate\n",
    "\n",
    "template = ChatPromptTemplate.from_messages(\n",
    "    [\n",
    "        (\n",
    "            \"system\",\n",
    "            \"You are a list generating machine. Everything you are asked will be answered with a comma seperated list of max {max_items}. Do not reply with anything else.\",\n",
    "        ),\n",
    "        (\n",
    "            \"human\",\n",
    "            \"{question}\",\n",
    "        ),\n",
    "    ]\n",
    ")\n",
    "\n",
    "prompt = template.format_messages(max_items=10, question=\"What is difference between INFJ and INTP?\")\n",
    "\n",
    "result = chat.predict_messages(prompt)\n",
    "\n",
    "p = CommaCouputParser()\n",
    "\n",
    "p.parse(result.content)"
   ]
  },
  {
   "cell_type": "code",
   "execution_count": 27,
   "metadata": {},
   "outputs": [
    {
     "data": {
      "text/plain": [
       "['Garp',\n",
       " 'Kaido',\n",
       " 'Whitebeard',\n",
       " 'Big Mom',\n",
       " 'Shanks',\n",
       " 'Mihawk',\n",
       " 'Akainu',\n",
       " 'Kizaru',\n",
       " 'Blackbeard',\n",
       " 'Rayleigh',\n",
       " 'Sengoku',\n",
       " 'Luffy',\n",
       " 'Zoro',\n",
       " 'Sabo',\n",
       " 'Yamato']"
      ]
     },
     "execution_count": 27,
     "metadata": {},
     "output_type": "execute_result"
    }
   ],
   "source": [
    "chain = template | chat | CommaCouputParser()\n",
    "chain.invoke({\n",
    "    \"max_items\":15,\n",
    "    \"question\":\"What are the strongest man in One piece?\"\n",
    "})"
   ]
  }
 ],
 "metadata": {
  "kernelspec": {
   "display_name": "env",
   "language": "python",
   "name": "python3"
  },
  "language_info": {
   "codemirror_mode": {
    "name": "ipython",
    "version": 3
   },
   "file_extension": ".py",
   "mimetype": "text/x-python",
   "name": "python",
   "nbconvert_exporter": "python",
   "pygments_lexer": "ipython3",
   "version": "3.11.6"
  }
 },
 "nbformat": 4,
 "nbformat_minor": 2
}
