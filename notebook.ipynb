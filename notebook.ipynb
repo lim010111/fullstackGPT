{
 "cells": [
  {
   "cell_type": "code",
   "execution_count": 8,
   "metadata": {},
   "outputs": [],
   "source": [
    "from langchain.chat_models import ChatOpenAI\n",
    "from langchain.prompts import ChatPromptTemplate\n",
    "from langchain.callbacks import StreamingStdOutCallbackHandler\n",
    "\n",
    "chat = ChatOpenAI(\n",
    "    model=\"gpt-4o-mini\",\n",
    "    temperature=0.1,\n",
    "    streaming=True,\n",
    "    callbacks=[StreamingStdOutCallbackHandler()],\n",
    ")\n",
    "\n",
    "pharmacist_prompt = ChatPromptTemplate.from_messages(\n",
    "    [\n",
    "        (\n",
    "            \"system\",\n",
    "            \"\",\n",
    "        ),\n",
    "        (\n",
    "            \"human\",\n",
    "            \"Please recommand nutritional supplements for my age. I am {age} years old.\",\n",
    "        ),\n",
    "    ]\n",
    ")\n",
    "\n",
    "main_chain = pharmacist_prompt | chat"
   ]
  },
  {
   "cell_type": "code",
   "execution_count": 9,
   "metadata": {},
   "outputs": [
    {
     "data": {
      "text/plain": [
       "AIMessageChunk(content='No.')"
      ]
     },
     "execution_count": 9,
     "metadata": {},
     "output_type": "execute_result"
    }
   ],
   "source": [
    "precise_pharm_prompt = ChatPromptTemplate.from_messages(\n",
    "    [\n",
    "        (\n",
    "            \"system\",\n",
    "            \"You are a Doctor of Pharmacy. If i give you list of medicines and symptom, you need to recommend me a medicine that can help improve my symptom. The medicines should be one of the drugs on the given list. If you don't have any medicine to help, say no.\",\n",
    "        ),\n",
    "        (\n",
    "            \"human\",\n",
    "            \"medicines: {medicines}, symptom: skin\",\n",
    "        ),\n",
    "    ]\n",
    ")\n",
    "\n",
    "precise_chain = precise_pharm_prompt | chat\n",
    "\n",
    "final_chain = {\"medicines\": main_chain} | precise_chain\n",
    "\n",
    "final_chain.invoke({\"age\": 24})"
   ]
  }
 ],
 "metadata": {
  "kernelspec": {
   "display_name": "env",
   "language": "python",
   "name": "python3"
  },
  "language_info": {
   "codemirror_mode": {
    "name": "ipython",
    "version": 3
   },
   "file_extension": ".py",
   "mimetype": "text/x-python",
   "name": "python",
   "nbconvert_exporter": "python",
   "pygments_lexer": "ipython3",
   "version": "3.11.6"
  }
 },
 "nbformat": 4,
 "nbformat_minor": 2
}
